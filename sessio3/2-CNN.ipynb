{
 "cells": [
  {
   "cell_type": "markdown",
   "metadata": {},
   "source": [
    "# AI4ALL Sessió 3.\n",
    "\n",
    "\n",
    "## Classificació d'imatges\n",
    "\n",
    "**Objectius**\n",
    "Aquesta sessió introdueix l'ús pràctic de les xarxes neuronals dins el marc de la classificació multi-classe. Per a això cal dominar els conceptes relacionats amb les xarxes neuronals i els paràmetres associats.\n",
    "\n",
    "Els objectius d'aquesta sessió són:\n",
    "* Aplicar models de xarxes neurals, posant l'èmfasi en:\n",
    " 1. Aplicar diferents topologies de xarxes neurals i entendre els avantatges de cada una.\n",
    " 2. Avaluar correctament l'error del model\n",
    " 3. Visualitzar les dades i el model resultant\n",
    "* Ésser capaç d'aplicar tècniques de xarxes neurals en casos reals\n",
    "* Validar els resultats en dades reals\n",
    "* Fomentar la capacitat per presentar resultats tècnics d'aprenentatge computacional de forma adequada davant altres persones\n",
    "\n",
    "**Materials**\n",
    "\n",
    "1. Base de dades amb imatges de digits (github). Aquesta base de dades està separada en els següents conjunts:\n",
    " * Train: la xarxa neural s'haurà d'entrenar sobre aquest conjunt.\n",
    " * Validació: la xarxa entrenada en el conjunt de Train s'haurà d'evaluar sobre el conjunt de validació.\n",
    " 2. [Llibreria pytorch de python.](https://pytorch.org/docs/stable/index.html)\n",
    "3. Codi d'exemple.\n",
    "\n",
    "\n",
    "**Base de dades**\n",
    "\n",
    "Entrenarem la xarxa neural a la base de dades MNIST, una base de dades formada per imatges de digits escrits a mà.\n",
    "\n",
    "![](cnn/mnist_plot-800x600.png)\n",
    "\n",
    "Concretament, s'haurà d'aprendre una xarxa neural per a classificar cadascun dels tipus de digit a la base de dades $y \\in \\{0, 1, 2, 3, 4, 5, 6, 7, 8, 9\\}$. Per tant, la xarxa tindrá 10 sortides i el digit predit correspondrà a la posició amb una magnitut més gran. Per exemple, el següent vector correspón al número 3. El 8 és lleugerament més provable que la resta ja que 3 i 8 comparteixen algunes semblances.\n",
    "\n",
    "``[0.01, 0.01, 0.01, 0.9, 0.01, 0.01, 0.01, 0.01, 0.02, 0.01]``\n",
    "\n",
    "\n",
    "A continuació us proporcionem un exemple interactiu de codi i del funcionament de PyTorch. **Recordeu que cada cel·la depen de l'anterior i cal executar-les totes en ordre**.\n",
    "\n",
    "\n",
    "**Exemple amb PyTorch**\n",
    "0. Instal·lació de la llibreria.\n",
    "  1. Triar la configuració dessitjada i seguir la comanda especificada a la [pàgina de pytorch](https://pytorch.org/).\n",
    "  2. Instal·lar dependències per a executar aquest notebook (en cas que el volgueu executar interactivament).\n",
    "    * `numpy`\n",
    "    * `matplotlib`\n",
    "  3. [Jupyter notebook](http://jupyter.org/install). \n",
    "  4. (Opcional) Nvidia Drivers i CUDA per a permetre execució en paral·lel en una GPU.\n",
    "  \n",
    "Recordeu ser consistents en la versió de python que utilitzeu. Recomanem utilitzar python3.6.\n",
    "\n",
    "### 1. Entrenem una xarxa neural\n",
    "1. Carreguem les llibreries i i la base de dades. En aquest cas les dades estan comprimides en un arxiu de tipus ``.npy`` però podria ser perfectament una carpeta amb imatges."
   ]
  },
  {
   "cell_type": "code",
   "execution_count": 1,
   "metadata": {},
   "outputs": [
    {
     "name": "stdout",
     "output_type": "stream",
     "text": [
      "47995 training images of size (28, 28)\n"
     ]
    }
   ],
   "source": [
    "%matplotlib inline\n",
    "\n",
    "import torch # Import main library\n",
    "from torch.utils.data import DataLoader # Main class for threaded data loading\n",
    "import matplotlib.pyplot as plt\n",
    "import numpy as np\n",
    "\n",
    "# Optimizaiton config\n",
    "batch_size = 200 # Number of samples used to estimate the gradient (bigger = stable training & bigger learning rate)\n",
    "learning_rate = 0.004 # Optimizer learning rate\n",
    "epochs = 0 # Number of iterations over the whole dataset.\n",
    "\n",
    "# Prepare data\n",
    "train_data = np.load('cnn/data/train.npy')\n",
    "val_data = np.load('cnn/data/val.npy')\n",
    "\n",
    "train_images = np.array(train_data.item()[\"images\"])\n",
    "val_images = np.array(val_data.item()[\"images\"])\n",
    "train_labels = np.array(train_data.item()[\"labels\"])\n",
    "val_labels = np.array(val_data.item()[\"labels\"])\n",
    "\n",
    "train_size = train_labels.shape[0]\n",
    "val_size = val_labels.shape[0]\n",
    "\n",
    "print(train_size, \"training images of size\", train_images.shape[1:])"
   ]
  },
  {
   "cell_type": "markdown",
   "metadata": {},
   "source": [
    "Verifiquem que les dades s'hagin carregat correctament (s'hauria de veure 25 dibuixos de digits):"
   ]
  },
  {
   "cell_type": "code",
   "execution_count": 2,
   "metadata": {},
   "outputs": [
    {
     "data": {
      "image/png": "[encoded data removed]",
      "text/plain": [
       "<Figure size 432x288 with 25 Axes>"
      ]
     },
     "metadata": {},
     "output_type": "display_data"
    }
   ],
   "source": [
    "plt.figure()\n",
    "train_indices = np.random.permutation(train_size)\n",
    "for i in range(5):\n",
    "    for j in range(5):\n",
    "        plt.subplot(5, 5, 1 + i*5+j)\n",
    "        plt.imshow(train_images[train_indices[i*5+j], :, :], cmap=\"gray\")"
   ]
  },
  {
   "cell_type": "markdown",
   "metadata": {},
   "source": [
    "2. Creem una xarxa neural amb 3 capes: input, output i una hidden layer (layer2). És important que les dimensions d'entrada i sortida siguin correctes: l'entrada ha de ser 28 * 28 (num de pixels de la imatge, que té mida 28 x 28), i la sortida ha de ser de mida 10, ja que hi ha 10 tipus de digits."
   ]
  },
  {
   "cell_type": "code",
   "execution_count": 3,
   "metadata": {},
   "outputs": [],
   "source": [
    "class NeuralNet(torch.nn.Module):\n",
    "    def __init__(self, n_neurones=8, n_sortides=10):\n",
    "        super().__init__() # Necessary for torch to detect this class as trainable\n",
    "        # Here define network architecture\n",
    "        self.layer1 = torch.nn.Linear(28**2, n_neurones) # Linear layer with n_neurones\n",
    "        self.layer2 = torch.nn.Linear(n_neurones, n_neurones * 2) # Linear layer with n_neurones neurones * 2\n",
    "        self.output = torch.nn.Linear(n_neurones * 2, 10) # Linear layer with 1 neuron (binary output)\n",
    "        \n",
    "    def forward(self, x):\n",
    "        # Here define architecture behavior\n",
    "        x = torch.sigmoid(self.layer1(x))\n",
    "        x = torch.sigmoid(self.layer2(x))\n",
    "        return torch.sigmoid(self.output(x)) # Binary output\n",
    "    \n",
    "# Instantiate network\n",
    "model = NeuralNet()        "
   ]
  },
  {
   "cell_type": "markdown",
   "metadata": {},
   "source": [
    "3. Creem l'optimitzador, declarem la funció a optimitzar, i la resta de funcions auxiliars per a optimitzar el model."
   ]
  },
  {
   "cell_type": "code",
   "execution_count": 4,
   "metadata": {},
   "outputs": [],
   "source": [
    "# Create optimizer for the network parameters\n",
    "optimizer = torch.optim.Adam(model.parameters(), learning_rate)\n",
    "\n",
    "# Instantiate loss function\n",
    "criterion = torch.nn.CrossEntropyLoss() # Binary logistic regression\n",
    "\n",
    "# Function to iterate the training set and update network weights with batches of images.\n",
    "def train(model, optimizer, criterion, dimensions_entrada=[-1, 28**2]):\n",
    "    \n",
    "    model.train() # training mode\n",
    "    \n",
    "    running_loss = 0\n",
    "    running_corrects = 0\n",
    "    total = 0\n",
    "    \n",
    "    # Loop through the the training set in steps of batch size\n",
    "    for idx in range(0, train_size, batch_size):       \n",
    "        optimizer.zero_grad() # make the gradients 0 \n",
    "        # Prepare images (x) and labels (y) to pytorch format\n",
    "        x = torch.from_numpy(train_images[train_indices[idx:(idx + batch_size)], ...]).float()\n",
    "        y = torch.from_numpy(train_labels[train_indices[idx:(idx + batch_size)], ...]).long()\n",
    "        output = model(x.view(*dimensions_entrada)) # forward pass\n",
    "        preds = torch.max(output, 1)[1]\n",
    "        loss = criterion(output, y) # calculate the loss value\n",
    "        \n",
    "        loss.backward() # compute the gradients\n",
    "        optimizer.step() # uptade network parameters \n",
    "                \n",
    "        # gather training statistics \n",
    "        running_loss += loss.item() * x.size(0)\n",
    "        running_corrects += torch.sum(preds==y).item() # .item() converts type from torch to python float or int\n",
    "        total += float(y.size(0))\n",
    "        \n",
    "    epoch_loss = running_loss / total # mean epoch loss \n",
    "    epoch_acc = running_corrects / total # mean epoch accuracy\n",
    "    \n",
    "    return epoch_loss, epoch_acc\n",
    "\n",
    "# Function to iterate the validation set and update network weights with batches of images.\n",
    "def val(model, criterion, dimensions_entrada=[-1, 28**2]):\n",
    "    \n",
    "    model.eval() # validation mode\n",
    "    \n",
    "    running_loss = 0\n",
    "    running_corrects = 0\n",
    "    total = 0\n",
    "  \n",
    "    # Loop through the the validation set in steps of batch size\n",
    "    with torch.no_grad(): # We are not backpropagating trhough the validation set, so we can save speed\n",
    "        for idx in range(0, val_size, batch_size):       \n",
    "            x = torch.from_numpy(val_images[idx:(idx + batch_size), ...]).float()\n",
    "            y = torch.from_numpy(val_labels[idx:(idx + batch_size), ...]).long()\n",
    "            output = model(x.view(*dimensions_entrada)) # forward pass\n",
    "            preds = torch.max(output, 1)[1]\n",
    "\n",
    "            loss = criterion(output, y) # calculate the loss value\n",
    "\n",
    "            # statistics \n",
    "            running_loss += loss.item() * x.size(0)\n",
    "            running_corrects += torch.sum(preds==y).item() # .item() converts type from torch to python float or int\n",
    "            total += float(y.size(0))\n",
    "        \n",
    "    epoch_loss = running_loss / total # mean epoch loss \n",
    "    epoch_acc = running_corrects / total # mean epoch accuracy\n",
    "    \n",
    "    return epoch_loss, epoch_acc\n",
    "\n"
   ]
  },
  {
   "cell_type": "markdown",
   "metadata": {},
   "source": [
    "4. Iterem sobre el dataset sencer $epochs$ vegades i mostrem el train loss i accuracy. Recordeu de donar un valor a la variable ``epochs``."
   ]
  },
  {
   "cell_type": "code",
   "execution_count": 5,
   "metadata": {},
   "outputs": [],
   "source": [
    "# Main training loop\n",
    "train_loss = []\n",
    "train_accuracy = []\n",
    "val_loss = []\n",
    "val_accuracy = []\n",
    "\n",
    "# Remove this line out of jupyter notebooks\n",
    "from IPython import display \n",
    "for epoch in range(epochs):\n",
    "    t_loss, t_acc = train(model, optimizer, criterion)\n",
    "    v_loss, v_acc = val(model, criterion)\n",
    "    \n",
    "    train_loss.append(t_loss)\n",
    "    train_accuracy.append(t_acc)\n",
    "    val_loss.append(v_loss)\n",
    "    val_accuracy.append(v_acc)\n",
    "\n",
    "    plt.subplot(1,2,1)\n",
    "    plt.title(\"loss\")\n",
    "    plt.plot(train_loss, 'b-')\n",
    "    plt.plot(val_loss, 'r-')\n",
    "    plt.legend([\"train\", \"val\"])\n",
    "    plt.subplot(1,2,2)\n",
    "    plt.title(\"accuracy\")\n",
    "    plt.plot(train_accuracy, 'b-')\n",
    "    plt.plot(val_accuracy, 'r-')\n",
    "    plt.legend([\"train\", \"val\"])\n",
    "    display.clear_output(wait=True)\n",
    "    display.display(plt.gcf())\n",
    "display.clear_output(wait=True)"
   ]
  },
  {
   "cell_type": "markdown",
   "metadata": {},
   "source": [
    "Hauria d'acabar a ~80% train accuracy i val accuracy (percentatge d'imatges classificats correctement). \n",
    "\n"
   ]
  },
  {
   "cell_type": "markdown",
   "metadata": {},
   "source": [
    "### 2. Xarxes neurals Convolucionals\n",
    "Com s'ha vist a la part teòrica, hi ha un tipus de xarxa neural més adequat per a imatges. Aquestes son les xarxes neurals convolucionals. La única diferència respecte una xarxa neural tradicional és que la xarxa convolucional utilitza un nou tipus de capa de neurones, la capa convolucional. Aquesta capa no es connecta a tota la imatge d'entrada sinó només a una regió, i les connexions es reutilitzen de regió en regió fins que s'ha passat per tota la imatge.\n",
    "\n",
    "<img src=\"cnn/convlayer.png\" style=\"width:50%;\"/>\n",
    "\n",
    "a pytorch podem definir una xarxa convolucional de la següent manera ([veure documentació](https://pytorch.org/docs/stable/search.html?q=conv2d&check_keywords=yes&area=default)):"
   ]
  },
  {
   "cell_type": "code",
   "execution_count": 6,
   "metadata": {},
   "outputs": [],
   "source": [
    "canals_entrada = 1 # les imatges son en blanc i negre, per tant, no cal tres canals de color\n",
    "canals_sortida = 16 # Apliquem 16 neurones que es desplacen per la imatge\n",
    "mida_finestra = 5 # mida de la finestra que apliquem\n",
    "conv_layer = torch.nn.Conv2d(canals_entrada, canals_sortida, mida_finestra)"
   ]
  },
  {
   "cell_type": "markdown",
   "metadata": {},
   "source": [
    "Penseu com si cada canal de sortida (cada neurona) detectés patrons diferents dins de la imatge. Si afegim una nova capa convolucional a sobre d'aquesta, cada punt dels $5\\times 5$ punts de la finestra detectarà combinacions dels 16 patrons detectats per la capa anterior. D'aquesta manera anem construint una representació incrementalment abstracta del contingut de la imatge (1. línies, 2. corves, 3. idea general del número (número de panxes, per exemple), 4. el número).\n",
    "\n",
    "Podem provar d'aplicar la capa sobre un dels números de la base de dades per a veure què passa:"
   ]
  },
  {
   "cell_type": "code",
   "execution_count": 7,
   "metadata": {},
   "outputs": [
    {
     "name": "stdout",
     "output_type": "stream",
     "text": [
      "torch.Size([1, 16, 24, 24])\n"
     ]
    }
   ],
   "source": [
    "imatge = torch.from_numpy(train_images[0]) # passem imatge a format pytorch\n",
    "imatge = imatge.view(1,1,28,28) # pytorch espera dimensions = mida_batch, canals, alçada, amplada\n",
    "imatge = imatge.float() # convertim a nombre real\n",
    "out = conv_layer(imatge)\n",
    "print(out.size())"
   ]
  },
  {
   "cell_type": "markdown",
   "metadata": {},
   "source": [
    "Podem veure que la sortida té 16 canals, i s'ha empetitit, de 28 a 24 pixels. Això es deu a que la finestra és de $5\\times5$, i per tant, el punt central està a la posició 3 de la finestra. D'aquesta manera, el punt central comença a la posició 3 de la imatge, i acaba al final - 3, deixant-se els dos primers pixels i els dos últims. Per això baixa de 28 a 24 pixels.\n",
    "\n",
    "Quin aspecte té la sortida?"
   ]
  },
  {
   "cell_type": "code",
   "execution_count": 8,
   "metadata": {},
   "outputs": [
    {
     "data": {
      "image/png": "[encoded data removed]",
      "text/plain": [
       "<Figure size 432x288 with 1 Axes>"
      ]
     },
     "metadata": {},
     "output_type": "display_data"
    },
    {
     "data": {
      "image/png": "[encoded data removed]",
      "text/plain": [
       "<Figure size 432x288 with 16 Axes>"
      ]
     },
     "metadata": {},
     "output_type": "display_data"
    }
   ],
   "source": [
    "def mostra_imatge(im):\n",
    "    out = im.data.numpy()\n",
    "    out = out - out.min()\n",
    "    out = out / out.max()\n",
    "    out = out * 255\n",
    "    out = out.repeat(3, 2)\n",
    "    out = out.astype('uint8')\n",
    "    plt.imshow(out)\n",
    "    \n",
    "plt.figure()\n",
    "plt.title(\"entrada\")\n",
    "mostra_imatge(imatge.view(28,28,1))\n",
    "plt.figure()\n",
    "for i in range(4):\n",
    "    for j in range(4):\n",
    "        plt.subplot(4,4,1 + i * 4 + j)\n",
    "        plt.title(\"canal_%d\" %(i*4+j))\n",
    "        canal = out[0,i*4+j,:,:].view(24, 24, 1)\n",
    "        mostra_imatge(canal)"
   ]
  },
  {
   "cell_type": "markdown",
   "metadata": {},
   "source": [
    "Recordeu que aquesta convolució no ah estat entrenada, i, per tant, és inicialitzada aleatoriament. Tot i això es pot comprovar com algun canal s'especialitza en detectar cantonades interiors, exteriors, o corves (en color blanc més intens).\n",
    "\n",
    "Ara ja podem entrenar una xarxa convolucional. Com a exercici, podeu provar de modificar la xarxa anterior sense mirar el següent codi:"
   ]
  },
  {
   "cell_type": "code",
   "execution_count": 9,
   "metadata": {},
   "outputs": [],
   "source": [
    "import torch.nn as nn\n",
    "\n",
    "class CNN(nn.Module):\n",
    "    def __init__(self, n_neurones, n_sortides, mida_finestra):\n",
    "        super().__init__()\n",
    "        self.layer1 = nn.Conv2d(1, n_neurones, mida_finestra)\n",
    "        self.pool1 = nn.MaxPool2d(2, 2)\n",
    "        self.nolinear1 = nn.ReLU()\n",
    "        self.layer2 = nn.Conv2d(n_neurones, n_neurones * 2, mida_finestra)\n",
    "        self.pool2 = nn.MaxPool2d(2, 2)\n",
    "        self.nolinear2 = nn.ReLU()\n",
    "        self.layer3 = nn.Linear(4*4*n_neurones*2, n_sortides)\n",
    "    \n",
    "    def forward(self, x):\n",
    "        x = self.layer1(x)\n",
    "        x = self.nolinear1(x)\n",
    "        x = self.pool1(x)\n",
    "        x = self.layer2(x)\n",
    "        x = self.nolinear2(x)\n",
    "        x = self.pool2(x)\n",
    "        x = x.view(x.size(0), -1)\n",
    "        return self.layer3(x)\n",
    "\n",
    "    \n",
    "epochs = 0 # numero d'iteracions d'entrenament\n",
    "learning_rate = 0.001 # coefficient d'aprenentatge\n",
    "\n",
    "model = CNN(16, 10, 5)\n",
    "optimizer = torch.optim.Adam(model.parameters(), learning_rate)\n"
   ]
  },
  {
   "cell_type": "markdown",
   "metadata": {},
   "source": [
    "Com podeu veure hem afegit una nova capa: Pool2d. El que fa aquesta capa és moure una finestra lliscant sobre la sortida d'una de les capes de la xarxa i retorna el màxim de la finestra en cada punt. Això té dos efectes:\n",
    "1. Si tenim una finestra de mida 2, com per cada 2 activacions en retornem una (el màxim), la mida de la sortida queda dividida entre 2.\n",
    "2. Com que dels dos només retornem el màxim, no importa si aquest es troba a la dreta o a l'esquerra de la finestra. Això vol dir que si movem la imatge un pixel a la dreta o a l'esquerra, la sortida de la xarxa no canviarà. Per tant, la xarxa és molt més robusta a petits desplaçaments.\n",
    "\n",
    "**ATENCIÓ: Si va molt lent, passar a següent apartat**\n",
    "\n",
    "Podem reutilitzar codi per a entrenar aquest model:"
   ]
  },
  {
   "cell_type": "code",
   "execution_count": 10,
   "metadata": {},
   "outputs": [],
   "source": [
    "# Main training loop\n",
    "train_loss = []\n",
    "train_accuracy = []\n",
    "val_loss = []\n",
    "val_accuracy = []\n",
    "\n",
    "# Remove this line out of jupyter notebooks\n",
    "from IPython import display \n",
    "for epoch in range(epochs):\n",
    "    t_loss, t_acc = train(model, optimizer, criterion, [-1, 1, 28, 28])\n",
    "    v_loss, v_acc = val(model, criterion, [-1, 1, 28, 28])\n",
    "    \n",
    "    train_loss.append(t_loss)\n",
    "    train_accuracy.append(t_acc)\n",
    "    val_loss.append(v_loss)\n",
    "    val_accuracy.append(v_acc)\n",
    "      \n",
    "    plt.subplot(1,2,1)\n",
    "    plt.title(\"loss\")\n",
    "    plt.plot(train_loss, 'b-')\n",
    "    plt.plot(val_loss, 'r-')\n",
    "    plt.legend([\"train\", \"val\"])\n",
    "    plt.subplot(1,2,2)\n",
    "    plt.title(\"accuracy\")\n",
    "    plt.plot(train_accuracy, 'b-')\n",
    "    plt.plot(val_accuracy, 'r-')\n",
    "    plt.legend([\"train\", \"val\"])\n",
    "    display.clear_output(wait=True)\n",
    "    display.display(plt.gcf())\n",
    "    \n",
    "#torch.save({\"net\": model.state_dict()}, \"cnn/model_cnn_gran.pth\") # guardem pesos\n",
    "display.clear_output(wait=True)"
   ]
  },
  {
   "cell_type": "markdown",
   "metadata": {},
   "source": [
    "### Models pre-entrenats\n",
    "He entrenat una xarxa neural convolucional utiltzant GPU. Podeu utilitzar les seves connexions per a inicialitzar la xarxa de l'apartat anterior."
   ]
  },
  {
   "cell_type": "code",
   "execution_count": 11,
   "metadata": {},
   "outputs": [
    {
     "name": "stdout",
     "output_type": "stream",
     "text": [
      "97.30% d'encert\n"
     ]
    }
   ],
   "source": [
    "import torch\n",
    "pesos = torch.load(\"cnn/model_cnn.pth\", map_location=\"cpu\")\n",
    "model.load_state_dict(pesos[\"net\"])\n",
    "\n",
    "# Mirem quin percentatge d'encert te el model amb pesos carregats sobre el conjunt de validació\n",
    "v_loss, v_acc = val(model, criterion, [-1, 1, 28, 28])\n",
    "print(\"%.02f%% d'encert\" %(100*v_acc))\n",
    "\n",
    "from scipy.misc import imresize"
   ]
  },
  {
   "cell_type": "markdown",
   "metadata": {},
   "source": [
    "### Exercicis\n",
    "1. Classifiqueu un digit escrit per vosaltres:\n",
    "   \n",
    "   1.1. Utilitzeu mspaint, gimp, o google drive, per a dibuixar un digit a mà amb pinzell blanc sobre fons negre.\n",
    "   \n",
    "   1.2. Carregueu-lo a una variable de python (podeu utilitzar `from scipy.misc import imread` per a tenir la funció `imatge = imread(\"ruta/imatge.jpg\")`).\n",
    "   \n",
    "   1.3. Si no l'hem guardat amb mida 28x28, utilitzem la funció imresize (`from scipy.misc import imresize`). `imatge = imresize(imatge, (28, 28))`\n",
    "  \n",
    "   1.4. Utilitzeu la funció torch.from_numpy(imatge_carregada) per a convertir-la a format torch.\n",
    "  \n",
    "   1.5. Fem la mitja dels canals de color per a que tingui un sol canal en blanc i negre: `imatge = imatge.mean(2)`.\n",
    "   \n",
    "   1.6. Canviem el format de les dimensions a un format que la xarxa sàpiga interpretar: `imatge = imatge.view(1,1,28,28).float()`\n",
    "  \n",
    "   1.7. Passem la imatge a la xarxa i observem la sortida. La funció `max` de pytorch retorna dos valors, el màxim i la posició on es troba.\n",
    "  \n",
    "  \n",
    "2. He entrenat una xarxa més potent que es troba a `cnn/model_cnn_gran.pth`. \n",
    "\n",
    "   2.1. Haureu de modificar la classe `CNN` per a que tingui la següent forma:\n",
    "       layer1\n",
    "       nolinear1\n",
    "       pooling1\n",
    "       layer2\n",
    "       nolinear2\n",
    "       layer3\n",
    "       nolinear3\n",
    "       pooling2\n",
    "       layer4\n",
    "    Cada `layer` duplica la mida de la seva entrada, per tant, layer3: n_neurones -> n_neurones * 4. Heu d'ajustar l'entrada de `layer4` per a que expressi la mida nova després de la sortida de pooling2. Recordeu que cada capa de convolució resta 4 a la mida de la imatge, i cada capa de pooling divideix entre 2.    \n",
    "  \n",
    "   2.2. Quin percentatge d'encert dóna?\n",
    "   "
   ]
  },
  {
   "cell_type": "code",
   "execution_count": null,
   "metadata": {},
   "outputs": [],
   "source": []
  }
 ],
 "metadata": {
  "kernelspec": {
   "display_name": "Python 3",
   "language": "python",
   "name": "python3"
  },
  "language_info": {
   "codemirror_mode": {
    "name": "ipython",
    "version": 3
   },
   "file_extension": ".py",
   "mimetype": "text/x-python",
   "name": "python",
   "nbconvert_exporter": "python",
   "pygments_lexer": "ipython3",
   "version": "3.6.6"
  }
 },
 "nbformat": 4,
 "nbformat_minor": 2
}
