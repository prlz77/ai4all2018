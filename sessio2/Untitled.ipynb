{
 "cells": [
  {
   "cell_type": "markdown",
   "metadata": {},
   "source": [
    "# AI4ALL 2018 Sessió 2\n",
    "En aquesta sessió aprendrem a construir l'esquelet bàsic d'entrenament d'una xarxa neural, i a aprendre-la.\n",
    "\n",
    "En primer lloc importem llibreries necessàries:"
   ]
  },
  {
   "cell_type": "code",
   "execution_count": 1,
   "metadata": {},
   "outputs": [],
   "source": [
    "%matplotlib inline\n",
    "import torch\n",
    "import matplotlib.pyplot as plt # llibreria per a mostrar gràfics"
   ]
  },
  {
   "cell_type": "markdown",
   "metadata": {},
   "source": [
    "Ara definim la xarxa neural que volem crear:"
   ]
  },
  {
   "cell_type": "code",
   "execution_count": 2,
   "metadata": {},
   "outputs": [],
   "source": [
    "class Xarxa(torch.nn.Module): # Per a que ho reconegui, ha de ser un mòdul de pytorch\n",
    "    def __init__(self, num_entrades, num_sortides, neurones):\n",
    "        super().__init__() # Necessari per a que funcioni pytorch\n",
    "        self.linear1 = torch.nn.Linear(num_entrades, neurones) # Afegim capa de neurones\n",
    "        self.relu1 = torch.nn.ReLU() # Afegim no-linearitat\n",
    "        self.linear2 = torch.nn.Linear(neurones, num_sortides) # Afegim capa de neurones\n",
    "    \n",
    "    def forward(self, dades): # Aquesta funció rep les dades i aplica les capes que hem creat en l'ordre que decidim\n",
    "        resultat = self.linear1(dades)\n",
    "        resultat = self.relu1(resultat) # cada capa s'aplica sobre la sortida de la capa anterior\n",
    "        resultat = self.linear2(resultat)\n",
    "        return resultat\n",
    "        "
   ]
  },
  {
   "cell_type": "markdown",
   "metadata": {},
   "source": [
    "Instanciem la xarxa i la funció d'error que volem minimitzar:"
   ]
  },
  {
   "cell_type": "code",
   "execution_count": 3,
   "metadata": {},
   "outputs": [],
   "source": [
    "n_entrades = 2\n",
    "n_sortides = 2\n",
    "neurones = 4\n",
    "xarxa = Xarxa(n_entrades, n_sortides, neurones)\n",
    "f_error = torch.nn.CrossEntropyLoss() # CrossEntropy permet classificar"
   ]
  },
  {
   "cell_type": "markdown",
   "metadata": {},
   "source": [
    "Escollim coeficient d'aprenentatge i instanciem l'optimitzador utilitzarem:"
   ]
  },
  {
   "cell_type": "code",
   "execution_count": 4,
   "metadata": {},
   "outputs": [],
   "source": [
    "coefficient = 0.01\n",
    "# Adam rep dos paràmetres principalment: 1. les connexions de la xarxa a optimitzar, 2. el coeficient d'aprenentatge\n",
    "optimitzador = torch.optim.Adam(xarxa.parameters(), coefficient)"
   ]
  },
  {
   "cell_type": "markdown",
   "metadata": {},
   "source": [
    "Carreguem les dades. En aquest cas crearem una base de dades aleatoria d'exemple. Les dades solen quedar representades com a una matriu on cada fila és un exemple, i cada columna, un atribut."
   ]
  },
  {
   "cell_type": "code",
   "execution_count": 5,
   "metadata": {},
   "outputs": [
    {
     "name": "stdout",
     "output_type": "stream",
     "text": [
      "Dades tensor([[ 2.9442, -1.0995],\n",
      "        [-1.2711,  0.2278],\n",
      "        [ 3.6553,  0.5569],\n",
      "        ...,\n",
      "        [-1.2087,  0.6571],\n",
      "        [-7.3781, -9.3605],\n",
      "        [-1.5397,  2.0725]])\n",
      "Categoria tensor([1, 0, 1,  ..., 0, 0, 1])\n"
     ]
    }
   ],
   "source": [
    "dades = 5 * torch.randn(1024, 2) # Mil exemples amb dos atributs per exemple amb desviació estàndard de 5\n",
    "categoria = ((dades[:,0] > 1.33) * (dades[:, 0] < 5)).long() # tot el que hi ha a la dreta de 1.33 serà de la classe 1\n",
    "categoria = categoria | ((dades[:,0] < -1.33) * (dades[:,0] > -5)).long() # tot el que hi ha a l'esquerra de -1.33 serà de la classe 1\n",
    "print(\"Dades\", dades)\n",
    "print(\"Categoria\", categoria)"
   ]
  },
  {
   "cell_type": "code",
   "execution_count": 6,
   "metadata": {},
   "outputs": [
    {
     "data": {
      "text/plain": [
       "<matplotlib.collections.PathCollection at 0x7f93123d0358>"
      ]
     },
     "execution_count": 6,
     "metadata": {},
     "output_type": "execute_result"
    },
    {
     "data": {
      "image/png": "[encoded data removed]",
      "text/plain": [
       "<Figure size 432x288 with 1 Axes>"
      ]
     },
     "metadata": {},
     "output_type": "display_data"
    }
   ],
   "source": [
    "plt.scatter(dades[categoria == 0, 0].numpy(), dades[categoria == 0, 1].numpy(), color='r')\n",
    "plt.scatter(dades[categoria == 1, 0].numpy(), dades[categoria == 1, 1].numpy(), color='b')"
   ]
  },
  {
   "cell_type": "markdown",
   "metadata": {},
   "source": [
    "Definim una iteració d'entrenament:"
   ]
  },
  {
   "cell_type": "code",
   "execution_count": 7,
   "metadata": {},
   "outputs": [],
   "source": [
    "def iteracio_entrenament(dades):\n",
    "    error = 0\n",
    "    percentatge_error = 0\n",
    "    comptador = 0\n",
    "    xarxa.train() # Avisem a la xarxa que la volem entrenar\n",
    "    for batch_index in range(0, dades.size(0), 256): # Fem batchos de 256 valors\n",
    "        optimitzador.zero_grad() # borrem dades sobre la iteració anterior (si es que n'havia)\n",
    "        entrada = dades[batch_index:(batch_index + 256), :] # passem un batch de 256 files a la xarxa\n",
    "        sortida = categoria[batch_index:(batch_index + 256)]\n",
    "        prediccio = xarxa(entrada) \n",
    "        error_actual_ = f_error(prediccio, sortida)\n",
    "        error_actual_.backward() # Diem a pytorch que minimitzi aquest valor d'error\n",
    "        optimitzador.step() # L'optimitzador fa un pas en el descens de gradient\n",
    "\n",
    "        classificacio = prediccio.max(1)[1] # Això ens retorna de les dues neurones de sortida, quina s'ha activat més\n",
    "        percentatge_error += (classificacio == sortida).float().mean()\n",
    "        error += error_actual_\n",
    "        comptador += 1\n",
    "    return error / comptador, percentatge_error / comptador"
   ]
  },
  {
   "cell_type": "markdown",
   "metadata": {},
   "source": [
    "Definim iteració de test (simplement aplicar la xarxa sobre les dades, sense entrenar)"
   ]
  },
  {
   "cell_type": "code",
   "execution_count": 8,
   "metadata": {},
   "outputs": [],
   "source": [
    "def iteracio_test(dades):\n",
    "    #error = 0\n",
    "    #percentatge_error = 0\n",
    "    prediccions = []\n",
    "    #comptador = 0\n",
    "    xarxa.eval()\n",
    "    with torch.no_grad(): # Avisem a torch que no cal que es guardi valors intermitjos per a calcular derivades\n",
    "        for batch_index in range(0, dades.size(0), 256): # Fem batchos de 256 valors\n",
    "            entrada = dades[batch_index:(batch_index + 256), :] # passem un batch de 256 files a la xarxa\n",
    "            sortida = categoria[batch_index:(batch_index + 256)]\n",
    "            prediccio = xarxa(entrada) \n",
    "            error_actual_ = f_error(prediccio, sortida)\n",
    "            prediccions.append(prediccio.max(1)[1]) # Això ens retorna de les dues neurones de sortida, quina s'ha activat més\n",
    "            #percentatge_error += (classificacio == sortida).float().mean()\n",
    "            #error += error_actual_\n",
    "            #comptador += 1\n",
    "    return prediccions"
   ]
  },
  {
   "cell_type": "markdown",
   "metadata": {},
   "source": [
    "Ara podem entrenar la xarxa per a que aprengui a classificar aquesta base de dades."
   ]
  },
  {
   "cell_type": "code",
   "execution_count": null,
   "metadata": {},
   "outputs": [
    {
     "data": {
      "image/png": "[encoded data removed]",
      "text/plain": [
       "<Figure size 432x288 with 2 Axes>"
      ]
     },
     "metadata": {},
     "output_type": "display_data"
    }
   ],
   "source": [
    "error_actual = 100000000 # inicialitzem l'error actual a un valor molt alt\n",
    "min_error = 0.5 # pararem quan l'error valgui això\n",
    "historic_errors = []\n",
    "\n",
    "from IPython import display # Cosa lletja per a que al mostrar quedi maco\n",
    "\n",
    "while error_actual > min_error:\n",
    "    valors_error = [] # Llista amb el valor de la funció d'error (per a poder mostrar grafic)\n",
    "    error_actual, percentatge_error = iteracio_entrenament(dades)\n",
    "    #print(\"Percent error batch: %.02f\" %(100 - percentatge_error * 100))\n",
    "    historic_errors.append(error_actual)\n",
    "    prediccions = iteracio_test(dades)\n",
    "    prediccions = torch.cat(prediccions, 0) # Convertim prediccions a llista de pytorch (abans era una llista de Python)\n",
    "    \n",
    "    # Funcions per a mostrar per pantalla (opcional)\n",
    "    display.clear_output(wait=True)\n",
    "    plt.clf()\n",
    "    plt.subplot(1,2,1)\n",
    "    plt.title(\"Error\")\n",
    "    plt.xlabel(\"Iteracio\")\n",
    "    plt.ylabel(\"Cross entropy error\")\n",
    "    plt.plot(historic_errors)\n",
    "\n",
    "    plt.subplot(1,2,2)\n",
    "    plt.title(\"Prediccions\")    \n",
    "    plt.scatter(dades[prediccions == 0, 0].numpy(), dades[prediccions == 0, 1].numpy(), color='r')\n",
    "    plt.scatter(dades[prediccions == 1, 0].numpy(), dades[prediccions == 1, 1].numpy(), color='b')\n",
    "    plt.show(False)\n",
    "    \n",
    "percentatge_error = (prediccions == sortida).float().mean()\n",
    "print(\"Percent error dataset: %.02f\" %(100 - percentatge_error * 100))"
   ]
  },
  {
   "cell_type": "markdown",
   "metadata": {},
   "source": [
    "## Exercicis\n",
    "1. Com afecta el número de neurones a l'aprenentatge?\n",
    "2. Com afecta el coeficient d'aprenentatge?\n",
    "3. Què passa si treieu la no-linearitat?\n",
    "4. Canvieu l'optimitzador per SGD i observeu el comportament.\n",
    "5. Què passa si afegiu capes?\n",
    "6. Obteniu el mateix resultat en dues execucions? Per què?\n",
    "7. Incrementeu la mida de la base de dades, creeu un subconjunt de validació i compareu l'error d'entrenament amb el de validació.\n",
    "    7.1 Com afecten els paràmetres anteriors a incrementar o disminuir la diferència entre train i validació?"
   ]
  },
  {
   "cell_type": "code",
   "execution_count": null,
   "metadata": {},
   "outputs": [],
   "source": []
  }
 ],
 "metadata": {
  "kernelspec": {
   "display_name": "Python 3",
   "language": "python",
   "name": "python3"
  },
  "language_info": {
   "codemirror_mode": {
    "name": "ipython",
    "version": 3
   },
   "file_extension": ".py",
   "mimetype": "text/x-python",
   "name": "python",
   "nbconvert_exporter": "python",
   "pygments_lexer": "ipython3",
   "version": "3.6.6"
  }
 },
 "nbformat": 4,
 "nbformat_minor": 2
}
