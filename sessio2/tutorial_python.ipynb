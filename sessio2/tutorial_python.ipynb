{
 "cells": [
  {
   "cell_type": "markdown",
   "metadata": {},
   "source": [
    "# AI4ALL Sessió 2\n",
    "En aquesta sessió aprendrem a construir l'esquelet bàsic d'una xarxa neural, i a aprendre-la.\n",
    "\n",
    "Primer però fem un recordatori de python.\n",
    "\n",
    "## Tutorial de python (Opcional)\n",
    "Com qualsevol llenguatge de programació, un programa fet en python és un conjunt de línies de codi que s'executen d'adalt a baix del fitxer.\n",
    "\n",
    "Podem guardar valors i resultats de valors en variables:\n"
   ]
  },
  {
   "cell_type": "code",
   "execution_count": 1,
   "metadata": {},
   "outputs": [],
   "source": [
    "a = 2"
   ]
  },
  {
   "cell_type": "markdown",
   "metadata": {},
   "source": [
    "Amb la funció `print` podem mostrar el seu contingut."
   ]
  },
  {
   "cell_type": "code",
   "execution_count": 2,
   "metadata": {},
   "outputs": [
    {
     "name": "stdout",
     "output_type": "stream",
     "text": [
      "2\n"
     ]
    }
   ],
   "source": [
    "print(a)"
   ]
  },
  {
   "cell_type": "markdown",
   "metadata": {},
   "source": [
    "Ara per exemple podem reslitzar operacions amb variables:"
   ]
  },
  {
   "cell_type": "code",
   "execution_count": 3,
   "metadata": {},
   "outputs": [
    {
     "name": "stdout",
     "output_type": "stream",
     "text": [
      "0.6666666666666666\n"
     ]
    }
   ],
   "source": [
    "a = 2\n",
    "b = 3\n",
    "c = a / b\n",
    "print(c)"
   ]
  },
  {
   "cell_type": "markdown",
   "metadata": {},
   "source": [
    "### Execució condicional\n",
    "Si volem executar cert codi depenent del resultat d'una operació, podem utilitzar la funció `if`"
   ]
  },
  {
   "cell_type": "code",
   "execution_count": 9,
   "metadata": {},
   "outputs": [
    {
     "name": "stdout",
     "output_type": "stream",
     "text": [
      "Major que 1\n"
     ]
    }
   ],
   "source": [
    "if b < 1: # Si b és més petit que 1\n",
    "    print(\"Menor a 1\")\n",
    "elif b == 1: # Si no es més petit que 1 i b és exactament 1\n",
    "    pass # No fer res\n",
    "elif b != 3 and b != 4 or b == 5:\n",
    "    print(\"B no es (3 ni 4) o 5 \")\n",
    "else: # Sino\n",
    "    print(\"Major que 1\")"
   ]
  },
  {
   "cell_type": "markdown",
   "metadata": {},
   "source": [
    "### Execució iterativa\n",
    "Quan hem d'executar un bloc de codi múltiples cops com, per exemple, entrenar una xarxa neural, podem utilitzar la funció `for` o `while`."
   ]
  },
  {
   "cell_type": "code",
   "execution_count": 10,
   "metadata": {},
   "outputs": [
    {
     "name": "stdout",
     "output_type": "stream",
     "text": [
      "0\n",
      "1\n",
      "2\n",
      "3\n",
      "4\n",
      "5\n",
      "6\n",
      "7\n",
      "8\n",
      "9\n"
     ]
    }
   ],
   "source": [
    "for i in range(0, 10): # el bloc que hi ha indentat sota del for s'executara 10 cops i la i valdrà 0, 1, 2, 3.. 9\n",
    "    print(i)"
   ]
  },
  {
   "cell_type": "markdown",
   "metadata": {},
   "source": [
    "El `for` ens permet recòrrer una llista d'elements. Una llista es crea de la següent manera:"
   ]
  },
  {
   "cell_type": "code",
   "execution_count": null,
   "metadata": {},
   "outputs": [],
   "source": [
    "la_meva_llista = [1, 2, 3, \"hola\", [4,5]]"
   ]
  },
  {
   "cell_type": "markdown",
   "metadata": {},
   "source": [
    "Podem accedir als seus elements utilitzant un index:"
   ]
  },
  {
   "cell_type": "markdown",
   "metadata": {},
   "source": [
    "print(la_meva_llista[0])\n",
    "\n",
    "for i in range(0, len(la_meva_llista)): # len(llista) ens indica la seva longitud\n",
    "    print(la_meva_llista[i])"
   ]
  },
  {
   "cell_type": "code",
   "execution_count": 11,
   "metadata": {},
   "outputs": [
    {
     "name": "stdout",
     "output_type": "stream",
     "text": [
      "1\n",
      "2\n",
      "3\n",
      "hola\n",
      "[4, 5]\n"
     ]
    }
   ],
   "source": [
    "for element in la_meva_llista:\n",
    "    print(element)"
   ]
  },
  {
   "cell_type": "markdown",
   "metadata": {},
   "source": [
    "### Funcions\n",
    "Si hi ha una seqüencia d'instruccions que es repeteix molt, la podem encapsular dins d'una funció. Per exemple, el següent codi té molta repetició:"
   ]
  },
  {
   "cell_type": "code",
   "execution_count": 13,
   "metadata": {},
   "outputs": [
    {
     "name": "stdout",
     "output_type": "stream",
     "text": [
      "Pau Te lletra u\n",
      "Albert No te lletra u\n"
     ]
    }
   ],
   "source": [
    "nom = \"Pau\"\n",
    "lletra = \"u\"\n",
    "\n",
    "te_lletra = False\n",
    "for i in range(len(nom)): # El text es considera una llista de caràcters\n",
    "    if nom[i] == lletra:\n",
    "        te_lletra = True\n",
    "if te_lletra: # Si te_lletra es True, es compleix la condició. De fet l'if acaba sempre evaluant si es True o False\n",
    "    print(nom, \"te lletra\", lletra)\n",
    "else:\n",
    "    print(nom, \"to te lletra\", lletra)\n",
    "    \n",
    "nom = \"Albert\"\n",
    "lletra = \"u\"\n",
    "\n",
    "te_lletra = False\n",
    "for i in range(len(nom)): # El text es considera una llista de caràcters\n",
    "    if nom[i] == lletra:\n",
    "        te_lletra = True\n",
    "if te_lletra: # Si te_lletra es True, es compleix la condició. De fet l'if acaba sempre evaluant si es True o False\n",
    "    print(nom, \"te lletra\", lletra)\n",
    "else:\n",
    "    print(nom, \"to te lletra\", lletra)"
   ]
  },
  {
   "cell_type": "markdown",
   "metadata": {},
   "source": [
    "Això ho podem comprimir en una funció:"
   ]
  },
  {
   "cell_type": "code",
   "execution_count": 16,
   "metadata": {},
   "outputs": [
    {
     "name": "stdout",
     "output_type": "stream",
     "text": [
      "Pau te lletra u\n",
      "Pau no te lletra p\n",
      "Pau te lletra P\n",
      "Xavier te lletra X\n"
     ]
    }
   ],
   "source": [
    "def te_lletra(nom, lletra): # def nom_functio(valorentrada1, valorentrada2, ...):\n",
    "    te_lletra = False\n",
    "    for i in range(len(nom)): # El text es considera una llista de caràcters\n",
    "        if nom[i] == lletra:\n",
    "            te_lletra = True\n",
    "    if te_lletra: # Si te_lletra es True, es compleix la condició. De fet l'if acaba sempre evaluant si es True o False\n",
    "        print(nom, \"te lletra\", lletra)\n",
    "    else:\n",
    "        print(nom, \"no te lletra\", lletra)\n",
    "\n",
    "te_lletra(\"Pau\", \"u\")\n",
    "te_lletra(\"Pau\", \"p\") # Compte majuscules\n",
    "te_lletra(\"Pau\", \"P\") # Compte majuscules\n",
    "te_lletra(\"Xavier\", \"X\")\n"
   ]
  },
  {
   "cell_type": "markdown",
   "metadata": {},
   "source": [
    "Les funcions poden tenir un valor de sortida:"
   ]
  },
  {
   "cell_type": "code",
   "execution_count": 18,
   "metadata": {},
   "outputs": [
    {
     "name": "stdout",
     "output_type": "stream",
     "text": [
      "Pau te lletra u\n"
     ]
    }
   ],
   "source": [
    "def te_lletra(nom, lletra): # def nom_functio(valorentrada1, valorentrada2, ...):\n",
    "    te_lletra = False\n",
    "    for i in range(len(nom)): # El text es considera una llista de caràcters\n",
    "        if nom[i] == lletra:\n",
    "            te_lletra = True\n",
    "    if te_lletra: # Si te_lletra es True, es compleix la condició. De fet l'if acaba sempre evaluant si es True o False\n",
    "        return(nom + \" te lletra \" + lletra) # podem concatenar text amb la funció suma (+)\n",
    "    else:\n",
    "        return(nom + \" no te lletra \" + lletra)\n",
    "\n",
    "valor1 = te_lletra(\"Pau\", \"u\")\n",
    "print(valor1)"
   ]
  },
  {
   "cell_type": "markdown",
   "metadata": {},
   "source": [
    "### Llibreries\n",
    "No és pràctic que tot el codi que volem executar estigui en un mateix fitxer. Per això podem escriure varis fitxers i utilitzar la funció import per a agafar-ne les funcions que necessitem."
   ]
  },
  {
   "cell_type": "code",
   "execution_count": 21,
   "metadata": {},
   "outputs": [
    {
     "name": "stdout",
     "output_type": "stream",
     "text": [
      "2018-10-05 10:44:39.863123\n"
     ]
    }
   ],
   "source": [
    "import datetime # Carreguem llibreria datetime\n",
    "\n",
    "print(datetime.datetime.now()) # executem funció now(), que hi ha dins de la subcarpeta datetime a la llibreria datetime"
   ]
  },
  {
   "cell_type": "code",
   "execution_count": 22,
   "metadata": {},
   "outputs": [
    {
     "name": "stdout",
     "output_type": "stream",
     "text": [
      "[0. 0. 0. 0. 0. 0. 0. 0. 0. 0.]\n"
     ]
    }
   ],
   "source": [
    "import numpy as np # \"as\" ens permet donar un alias més petit, per comoditat\n",
    "\n",
    "vector1 = np.zeros(10)\n",
    "print(vector1)"
   ]
  },
  {
   "cell_type": "markdown",
   "metadata": {},
   "source": [
    "### Classes\n",
    "El contingut d'una funció (les variables que creem dins, etc) desapareix un cop executada. Pel què és com una caixa negra amb una entrada i una sortida.\n",
    "\n",
    "Les classes son com funcions pero que guarden un estat intern:"
   ]
  },
  {
   "cell_type": "code",
   "execution_count": 23,
   "metadata": {},
   "outputs": [
    {
     "name": "stdout",
     "output_type": "stream",
     "text": [
      "3 3\n",
      "10 10\n",
      "13 13\n"
     ]
    }
   ],
   "source": [
    "class Quadrat(object): # solem posar la primera en majúscula per convenció\n",
    "    def __init__(self, x, y): # Definim els valors inicials amb els que construirem el quadrat\n",
    "        self.x = x # l'estat intern es diu \"self\", el que es posa en el self es queda guardat\n",
    "        self.y = y\n",
    "        \n",
    "    def fer_gran(self, x, y): # fer gran és una funció que altera l'estat de l'objecte.\n",
    "        self.x = self.x + x\n",
    "        self.y = self.y + y\n",
    "        \n",
    "    def fer_petit(self, x, y): # la funció d'una classe se sol dir \"mètode\" per a distingir d'una funció corrent.\n",
    "        self.x = self.x - x\n",
    "        self.y = self.y - y\n",
    "        \n",
    "# Creem un quadrat. En nomenclatura python: instanciem un objecte de tipus Quadrat\n",
    "quadrat1 = Quadrat(3, 3)\n",
    "print(quadrat1.x, quadrat1.y)\n",
    "# Creem un altre quadrat, tindrà el seu propi estat\n",
    "quadrat2 = Quadrat(10,10)\n",
    "print(quadrat2.x, quadrat2.y)\n",
    "\n",
    "# Alterem l'estat d'un quadrat\n",
    "quadrat1.fer_gran(10, 10)\n",
    "print(quadrat1.x, quadrat1.y)"
   ]
  },
  {
   "cell_type": "markdown",
   "metadata": {},
   "source": [
    "## Exercicis\n",
    "1. Afegiu un element a `la_meva_llista` utilitzant el mètode `append`. (a Python, les llistes son objectes també)\n",
    "2. Modifiqueu un element de `la_meva_llista`\n",
    "3. Feu una funció que donat un nom, torni el nom al reves.\n",
    "4. Feu una classe \"Nom\", que contingui com a estat, un nom.\n",
    "   4.1. amb un mètode que el retorni del revés.\n",
    "   4.2. Feu un altre que torni la Nèsima lletra.\n",
    "   4.3. Un que substitueixi el nom per un altre si l'altre és \"Pedro\", \"Joan\" o \"Edgar\".\n",
    "5. Dissenyeu una classe `Agenda`, que us permeti afegir i treure noms i telèfons, buscar telèfon a partir del nom, modificar, etc."
   ]
  },
  {
   "cell_type": "code",
   "execution_count": null,
   "metadata": {},
   "outputs": [],
   "source": []
  }
 ],
 "metadata": {
  "kernelspec": {
   "display_name": "Python 3",
   "language": "python",
   "name": "python3"
  },
  "language_info": {
   "codemirror_mode": {
    "name": "ipython",
    "version": 3
   },
   "file_extension": ".py",
   "mimetype": "text/x-python",
   "name": "python",
   "nbconvert_exporter": "python",
   "pygments_lexer": "ipython3",
   "version": "3.6.6"
  }
 },
 "nbformat": 4,
 "nbformat_minor": 2
}
